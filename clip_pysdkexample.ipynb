{
  "nbformat": 4,
  "nbformat_minor": 0,
  "metadata": {
    "colab": {
      "provenance": []
    },
    "kernelspec": {
      "name": "python3",
      "display_name": "Python 3"
    },
    "language_info": {
      "name": "python"
    }
  },
  "cells": [
    {
      "cell_type": "code",
      "execution_count": null,
      "metadata": {
        "id": "HkauIx-6ki0r"
      },
      "outputs": [],
      "source": [
        "!pip install degirum"
      ]
    },
    {
      "cell_type": "code",
      "source": [
        "import cv2\n",
        "import torch\n",
        "import requests\n",
        "import numpy as np\n",
        "import degirum as dg\n",
        "import torch.nn.functional as F"
      ],
      "metadata": {
        "id": "2cYg5PYqqhXM"
      },
      "execution_count": null,
      "outputs": []
    },
    {
      "cell_type": "code",
      "source": [
        "# Connect to DeGirum AI inference engine\n",
        "zoo = dg.connect(\"@cloud\", \"https://cs.degirum.com/degirum/kvk_upload_test\", \"<my cloud API access token>\")\n",
        "model = zoo.load_model('clip--224x224_float_openvino_cpu_4', input_image_format = \"RAW\")"
      ],
      "metadata": {
        "id": "_dNOVdq2qiI5"
      },
      "execution_count": null,
      "outputs": []
    },
    {
      "cell_type": "code",
      "source": [
        "prompts = [\"People Running\", \"People Talking\", \"People Fighting\", \"People Laughing\", \"People Dancing\"]\n",
        "\n",
        "# DeGirum API endpoint URL for computing embeddings\n",
        "api_url = 'http://100.97.6.89:8585/compute_embeddings'\n",
        "data = {'text_prompts': prompts}\n",
        "response = requests.post(api_url, json=data)\n",
        "embeddings = response.json()[\"embeddings\"]"
      ],
      "metadata": {
        "id": "7DXPyg4jqnPX"
      },
      "execution_count": null,
      "outputs": []
    },
    {
      "cell_type": "code",
      "source": [
        "!wget https://medium.com/r/?url=https%3A%2F%2Fpixabay.com%2Fphotos%2Frace-marathon-runners-athletes-932254%2F"
      ],
      "metadata": {
        "id": "sWmQ2V_yquA7"
      },
      "execution_count": null,
      "outputs": []
    },
    {
      "cell_type": "code",
      "source": [
        "import cv2\n",
        "image = cv2.imread(\"race-932254_640.jpg\")\n",
        "dg_cloud_output = model(image).results[0][\"data\"]\n",
        "dg_cloud_output_reshaped = dg_cloud_output.reshape(-1)"
      ],
      "metadata": {
        "id": "_5NtzH-jrOSX"
      },
      "execution_count": null,
      "outputs": []
    },
    {
      "cell_type": "code",
      "source": [
        "# Compute the cosine similarity between two vectors.\n",
        "def cosine_similarity(a, b):\n",
        "    return np.dot(a, b) / (np.linalg.norm(a) * np.linalg.norm(b))"
      ],
      "metadata": {
        "id": "FcLcHzCurV8k"
      },
      "execution_count": null,
      "outputs": []
    },
    {
      "cell_type": "code",
      "source": [
        "similarities = [cosine_similarity(dg_cloud_output_reshaped, np.array(embedding).reshape(-1)) for embedding in embeddings]\n",
        "similarities_tensor = torch.tensor(similarities, dtype=torch.float32)\n",
        "softmax_scores = F.softmax(similarities_tensor, dim=0)\n",
        "max_index = torch.argmax(softmax_scores).item()\n",
        "\n",
        "for index, prompt in enumerate(prompts):\n",
        "    print(f\"{prompt} - {softmax_scores[index]*100:.2f}%\")"
      ],
      "metadata": {
        "id": "emWX6YoyrZjR"
      },
      "execution_count": null,
      "outputs": []
    }
  ]
}